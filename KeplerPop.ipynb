{
 "metadata": {
  "name": "",
  "signature": "sha256:40fec6e178c7378d6fd1dd3b6a453d3e21d30e5c18de4a2164a4e33317f6f703"
 },
 "nbformat": 3,
 "nbformat_minor": 0,
 "worksheets": [
  {
   "cells": [
    {
     "cell_type": "markdown",
     "metadata": {},
     "source": [
      "#Constructing a Pop song from Kepler light curves"
     ]
    },
    {
     "cell_type": "code",
     "collapsed": false,
     "input": [
      "import h5py\n",
      "import numpy as np\n",
      "from scipy.io import wavfile \n",
      "from scipy.signal import butter, lfilter, freqz\n",
      "from sklearn.linear_model import Lasso\n",
      "from IPython.display import Audio \n",
      "%matplotlib inline"
     ],
     "language": "python",
     "metadata": {},
     "outputs": [],
     "prompt_number": 2
    },
    {
     "cell_type": "markdown",
     "metadata": {},
     "source": [
      "Load the data: \"dataset.h5\" contains thousands of short cadence Kepler light curves. We selected 5000 at random."
     ]
    },
    {
     "cell_type": "code",
     "collapsed": true,
     "input": [
      "with h5py.File(\"dataset.h5\", \"r\") as f:\n",
      "    k = np.arange(f[\"lcs\"].shape[0])\n",
      "    np.random.seed(1234)\n",
      "    np.random.shuffle(k)\n",
      "    lc = f[\"lcs\"][np.sort(k[:5000]), :]"
     ],
     "language": "python",
     "metadata": {},
     "outputs": []
    },
    {
     "cell_type": "markdown",
     "metadata": {},
     "source": [
      "Apply a low-pass filter to the data."
     ]
    },
    {
     "cell_type": "code",
     "collapsed": false,
     "input": [
      "def butter_lowpass(cutoff, fs, order=5):\n",
      "    nyq = 0.5 * fs\n",
      "    normal_cutoff = cutoff / nyq\n",
      "    b, a = butter(order, normal_cutoff, btype='low', analog=False)\n",
      "    return b, a\n",
      "\n",
      "def butter_lowpass_filter(data, cutoff, fs, order=5):\n",
      "    b, a = butter_lowpass(cutoff, fs, order=order)\n",
      "    y = lfilter(b, a, data)\n",
      "    return y"
     ],
     "language": "python",
     "metadata": {},
     "outputs": [],
     "prompt_number": 4
    },
    {
     "cell_type": "code",
     "collapsed": false,
     "input": [
      "for i in range(len(lc)):\n",
      "    lc[i] = butter_lowpass_filter(lc[i], 1, 10.)"
     ],
     "language": "python",
     "metadata": {},
     "outputs": [],
     "prompt_number": 5
    },
    {
     "cell_type": "markdown",
     "metadata": {},
     "source": [
      "Load a test sample of the song, \"sample2.wav\" and extract the sample rate and data."
     ]
    },
    {
     "cell_type": "code",
     "collapsed": false,
     "input": [
      "rate, samps = wavfile.read(\"sample2.wav\")\n",
      "Audio(data=samps, rate=rate)"
     ],
     "language": "python",
     "metadata": {},
     "outputs": []
    },
    {
     "cell_type": "markdown",
     "metadata": {},
     "source": [
      "Format the data and import 'Lasso' from scikit-Learn."
     ]
    },
    {
     "cell_type": "code",
     "collapsed": false,
     "input": [
      "from sklearn.linear_model import Lasso\n",
      "k = 10 \n",
      "n = lc.shape[1] \n",
      "y = samps[:, 0][::k]  # downsample\n",
      "X = np.concatenate((lc, np.ones((1, lc.shape[1]))))[:, ::k].T"
     ],
     "language": "python",
     "metadata": {},
     "outputs": []
    },
    {
     "cell_type": "markdown",
     "metadata": {},
     "source": [
      "Train the linear model"
     ]
    },
    {
     "cell_type": "code",
     "collapsed": false,
     "input": [
      "model = Lasso(alpha=1e-10)  # turn that regularisation right down!\n",
      "model.fit(X, y)"
     ],
     "language": "python",
     "metadata": {},
     "outputs": []
    },
    {
     "cell_type": "markdown",
     "metadata": {},
     "source": [
      "Make a prediction and plot."
     ]
    },
    {
     "cell_type": "code",
     "collapsed": false,
     "input": [
      "p = model.predict(X)\n",
      "pl.plot(y)\n",
      "pl.plot(p, alpha=0.7)"
     ],
     "language": "python",
     "metadata": {},
     "outputs": [
      {
       "metadata": {},
       "output_type": "pyout",
       "prompt_number": 118,
       "text": [
        "[<matplotlib.lines.Line2D at 0x7f8a841f5110>]"
       ]
      },
      {
       "metadata": {},
       "output_type": "display_data",
       "png": "[encoded data removed]",
       "text": [
        "<matplotlib.figure.Figure at 0x7f8a84125410>"
       ]
      }
     ],
     "prompt_number": 118
    },
    {
     "cell_type": "markdown",
     "metadata": {},
     "source": [
      "Play the result."
     ]
    },
    {
     "cell_type": "code",
     "collapsed": false,
     "input": [
      "Audio(data=p, rate=4410)"
     ],
     "language": "python",
     "metadata": {},
     "outputs": [
      {
       "html": [
        "\n",
        "                <audio controls=\"controls\" >\n",
        "                    <source src=\"data:audio/wav;base64,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\" type=\"audio/wav\" />\n",
        "                    Your browser does not support the audio element.\n",
        "                </audio>\n",
        "              "
       ],
       "metadata": {},
       "output_type": "pyout",
       "prompt_number": 91,
       "text": [
        "<IPython.lib.display.Audio at 0x7f8a8413a310>"
       ]
      }
     ],
     "prompt_number": 91
    },
    {
     "cell_type": "markdown",
     "metadata": {},
     "source": [
      "Now repeat for each second of the full song."
     ]
    },
    {
     "cell_type": "code",
     "collapsed": false,
     "input": [
      "k = 10  \n",
      "n = lc.shape[1]  \n",
      "y = samps[44100*10 + n:, 0][::k]  \n",
      "X = np.concatenate((lc, np.ones((1, lc.shape[1]))))[:, ::k].T\n",
      "rate, samps = wavfile.read(\"full_song.wav\")\n",
      "a1 = np.linspace(-.01, -5, 15)  # gradually turn down the regularisation over 15 secs\n",
      "a2 = np.ones(30)*-5  # hold the regularisation at a low value for 30 secs\n",
      "a3 = np.linspace(-5, -.01, 15)  # turn up the regularisation at the end\n",
      "a = np.concatenate((a1, a2, a3))\n",
      "for i in range(len(a)):\n",
      "    y = samps[44100*i:44100*(i+1), 0][::k]  \n",
      "    X = np.concatenate((lc, np.ones((1, lc.shape[1]))))[:, ::k].T\n",
      "    model = Lasso(alpha=10**a[i])\n",
      "    model.fit(X, y)\n",
      "    p = model.predict(X)\n",
      "    wavfile.write('%sfull.wav' % i, rate, p.astype(np.int16))"
     ],
     "language": "python",
     "metadata": {},
     "outputs": []
    },
    {
     "cell_type": "markdown",
     "metadata": {},
     "source": [
      "Use pydub to join the 1 second snippets together."
     ]
    },
    {
     "cell_type": "code",
     "collapsed": false,
     "input": [
      "from pydub import AudioSegment\n",
      "song = AudioSegment.from_wav(\"0full.wav\")\n",
      "for i in range(1, 59):\n",
      "    song += AudioSegment.from_wav(\"%sfull.wav\" % i)\n",
      "song.export(\"songfull.wav\", format=\"wav\")"
     ],
     "language": "python",
     "metadata": {},
     "outputs": []
    },
    {
     "cell_type": "markdown",
     "metadata": {},
     "source": [
      "Play the final song."
     ]
    },
    {
     "cell_type": "code",
     "collapsed": false,
     "input": [
      "rate, samps = wavfile.read(\"songfull.wav\")\n",
      "Audio(data=samps, rate=4410)"
     ],
     "language": "python",
     "metadata": {},
     "outputs": []
    }
   ],
   "metadata": {}
  }
 ]
}